{
 "cells": [
  {
   "cell_type": "code",
   "execution_count": 1,
   "id": "3b5c048a",
   "metadata": {},
   "outputs": [],
   "source": [
    "## QICK LIBRARY\n",
    "import sys\n",
    "from qick import *\n",
    "# from qick.tprocv2_compiler import tprocv2_compile\n",
    "\n",
    "from qick.asm_v2 import QickProgramV2\n",
    "\n",
    "from random import random\n",
    "import time\n",
    "import pickle\n",
    "import numpy as np\n",
    "import matplotlib.pyplot as plt\n",
    "from tqdm.auto import tqdm"
   ]
  },
  {
   "cell_type": "code",
   "execution_count": 2,
   "id": "ae9859b1",
   "metadata": {},
   "outputs": [],
   "source": [
    "import logging\n",
    "# logging.basicConfig(level=logging.DEBUG)\n",
    "logging.basicConfig(level=logging.INFO, force=True, format='%(levelname)-8s [%(filename)s:%(lineno)d] %(message)s')"
   ]
  },
  {
   "cell_type": "code",
   "execution_count": 3,
   "id": "ab849bc3",
   "metadata": {},
   "outputs": [
    {
     "data": {
      "application/javascript": [
       "\n",
       "try {\n",
       "require(['notebook/js/codecell'], function(codecell) {\n",
       "  codecell.CodeCell.options_default.highlight_modes[\n",
       "      'magic_text/x-csrc'] = {'reg':[/^%%microblaze/]};\n",
       "  Jupyter.notebook.events.one('kernel_ready.Kernel', function(){\n",
       "      Jupyter.notebook.get_cells().map(function(cell){\n",
       "          if (cell.cell_type == 'code'){ cell.auto_highlight(); } }) ;\n",
       "  });\n",
       "});\n",
       "} catch (e) {};\n"
      ]
     },
     "metadata": {},
     "output_type": "display_data"
    },
    {
     "data": {
      "application/javascript": [
       "\n",
       "try {\n",
       "require(['notebook/js/codecell'], function(codecell) {\n",
       "  codecell.CodeCell.options_default.highlight_modes[\n",
       "      'magic_text/x-csrc'] = {'reg':[/^%%pybind11/]};\n",
       "  Jupyter.notebook.events.one('kernel_ready.Kernel', function(){\n",
       "      Jupyter.notebook.get_cells().map(function(cell){\n",
       "          if (cell.cell_type == 'code'){ cell.auto_highlight(); } }) ;\n",
       "  });\n",
       "});\n",
       "} catch (e) {};\n"
      ]
     },
     "metadata": {},
     "output_type": "display_data"
    },
    {
     "name": "stdout",
     "output_type": "stream",
     "text": [
      "\n",
      "QICK configuration:\n",
      "\n",
      "\tBoard: RFSoC4x2\n",
      "\n",
      "\tSoftware version: 0.2.160\n",
      "\tFirmware timestamp: Thu Jun 22 13:58:32 2023\n",
      "\n",
      "\tGlobal clocks (MHz): tProcessor 350.000, RF reference 491.520\n",
      "\n",
      "\t2 signal generator channels:\n",
      "\t0:\taxis_signal_gen_v6 - tProc output 0, envelope memory 65536 samples\n",
      "\t\tDAC tile 0, blk 0, 32-bit DDS, fabric=614.400 MHz, f_dds=9830.400 MHz\n",
      "\t1:\taxis_signal_gen_v6 - tProc output 1, envelope memory 65536 samples\n",
      "\t\tDAC tile 2, blk 0, 32-bit DDS, fabric=614.400 MHz, f_dds=9830.400 MHz\n",
      "\n",
      "\t2 readout channels:\n",
      "\t0:\taxis_readout_v2 - controlled by PYNQ\n",
      "\t\tADC tile 0, blk 0, 32-bit DDS, fabric=491.520 MHz, fs=3932.160 MHz\n",
      "\t\tmaxlen 16384 (avg) 1024 (decimated)\n",
      "\t\ttriggered by dport 0, pin 4, feedback to tProc input 0\n",
      "\t1:\taxis_readout_v2 - controlled by PYNQ\n",
      "\t\tADC tile 0, blk 1, 32-bit DDS, fabric=491.520 MHz, fs=3932.160 MHz\n",
      "\t\tmaxlen 16384 (avg) 1024 (decimated)\n",
      "\t\ttriggered by dport 2, pin 4, feedback to tProc input 1\n",
      "\n",
      "\t2 DACs:\n",
      "\t\tDAC tile 0, blk 0 is DAC_B\n",
      "\t\tDAC tile 2, blk 0 is DAC_A\n",
      "\n",
      "\t2 ADCs:\n",
      "\t\tADC tile 0, blk 0 is ADC_D\n",
      "\t\tADC tile 0, blk 1 is ADC_C\n",
      "\n",
      "\t16 digital output pins:\n",
      "\t0:\tPMOD0_0 (dport 0, pin 0)\n",
      "\t1:\tPMOD0_1 (dport 0, pin 1)\n",
      "\t2:\tPMOD0_2 (dport 0, pin 2)\n",
      "\t3:\tPMOD0_3 (dport 0, pin 3)\n",
      "\t4:\tPMOD0_4 (dport 1, pin 0)\n",
      "\t5:\tPMOD0_5 (dport 1, pin 1)\n",
      "\t6:\tPMOD0_6 (dport 1, pin 2)\n",
      "\t7:\tPMOD0_7 (dport 1, pin 3)\n",
      "\t8:\tPMOD1_0 (dport 2, pin 0)\n",
      "\t9:\tPMOD1_1 (dport 2, pin 1)\n",
      "\t10:\tPMOD1_2 (dport 2, pin 2)\n",
      "\t11:\tPMOD1_3 (dport 2, pin 3)\n",
      "\t12:\tPMOD1_4 (dport 3, pin 0)\n",
      "\t13:\tPMOD1_5 (dport 3, pin 1)\n",
      "\t14:\tPMOD1_6 (dport 3, pin 2)\n",
      "\t15:\tPMOD1_7 (dport 3, pin 3)\n",
      "\n",
      "\ttProc qick_processor: program memory 1024 words, data memory 1024 words\n",
      "\t\texternal start pin: None\n"
     ]
    }
   ],
   "source": [
    "soc = QickSoc('../../qick_lib/qick/qick_4x2.bit')\n",
    "# soc = QickSoc('../../qick_lib/qick/qick_4x2.bit',force_init_clks=True)\n",
    "\n",
    "print(soc)"
   ]
  },
  {
   "cell_type": "code",
   "execution_count": null,
   "id": "9ad6a3db",
   "metadata": {},
   "outputs": [],
   "source": [
    "soc._cfg"
   ]
  },
  {
   "cell_type": "code",
   "execution_count": null,
   "id": "218dc7d9",
   "metadata": {},
   "outputs": [],
   "source": [
    "print(soc.tproc)"
   ]
  },
  {
   "cell_type": "code",
   "execution_count": 4,
   "id": "4186a694",
   "metadata": {},
   "outputs": [
    {
     "name": "stdout",
     "output_type": "stream",
     "text": [
      "OrderedDict([('wave', Wave(freq=87381334, phase=0, env=0, gain=30000, length=20, conf=9))])\n",
      "     REG_WR s12 imm #0 \n",
      "     TIME inc_ref #200 \n",
      "     REG_WR r0 imm #5 \n",
      "LOOP_0:\n",
      "     REG_WR s14 imm #0 \n",
      "     WPORT_WR p0 wmem [&0] \n",
      "     REG_WR s14 imm #0 \n",
      "     WPORT_WR p1 wmem [&0] \n",
      "     REG_WR s14 imm #100 \n",
      "     DPORT_WR p0 imm 17 \n",
      "     REG_WR s14 imm #110 \n",
      "     DPORT_WR p0 imm 0 \n",
      "     WAIT [&13] @100 \n",
      "     TIME inc_ref #350000171 \n",
      "     REG_WR s12 op -op(s12 + #1) \n",
      "     REG_WR r0 op -op(r0-#1) -uf\n",
      "     JUMP LOOP_0 -if(NZ) \n",
      "     JUMP [&18] \n",
      "\n",
      "[[0, 0, 0, 0, 0, 0, 0, 0], [76, 1610612736, 140, 0, 0, 0, 0, 0], [25600, 16777216, 237, 0, 0, 0, 0, 0], [640, 1610612736, 140, 0, 0, 0, 0, 0], [78, 1610612736, 140, 0, 0, 0, 0, 0], [0, 3221225472, 220, 0, 0, 0, 0, 0], [78, 1610612736, 140, 0, 0, 0, 0, 0], [0, 3221225600, 220, 0, 0, 0, 0, 0], [12878, 1610612736, 140, 0, 0, 0, 0, 0], [0, 2147622912, 221, 0, 0, 0, 0, 0], [14158, 1610612736, 140, 0, 0, 0, 0, 0], [0, 2147483648, 221, 0, 0, 0, 0, 0], [2147495168, 285212709, 8, 0, 0, 0, 0, 0], [2147495168, 285319205, 57, 0, 0, 0, 0, 0], [1850348928, 16777226, 237, 0, 0, 0, 0, 0], [204, 38, 136, 0, 0, 0, 0, 0], [128, 301989888, 136, 0, 0, 0, 0, 0], [0, 2147516416, 61, 0, 0, 0, 0, 0], [0, 147456, 60, 0, 0, 0, 0, 0]]\n"
     ]
    }
   ],
   "source": [
    "freq = 200.0\n",
    "windowlen = 100\n",
    "pulselen = 20\n",
    "reps = 5\n",
    "# freq = 5.0\n",
    "# windowlen = 1000\n",
    "# pulselen = 1000\n",
    "# reps = 1\n",
    "\n",
    "prog = QickProgramV2(soc)\n",
    "\n",
    "prog.add_instruction({'CMD':\"REG_WR\", 'DST':'s12','SRC':'imm','LIT': '0', 'UF':'0'})\n",
    "prog.add_instruction({'CMD':'TIME', 'DST':'inc_ref', 'LIT':'200'})\n",
    "\n",
    "prog.declare_readout(ch=0, length=windowlen, freq=freq, gen_ch=0)\n",
    "# prog.declare_readout(ch=1, length=windowlen, freq=freq, gen_ch=0)\n",
    "# prog.declare_readout(ch=0, length=windowlen, freq=freq, gen_ch=0, sel='input') # no downconversion\n",
    "# prog.declare_readout(ch=0, length=windowlen, freq=0, gen_ch=0, sel='product') # downconvert with IF=0\n",
    "\n",
    "prog.add_wave(\"wave\", soc.freq2reg(freq, gen_ch=0, ro_ch=0),0,0,30000,pulselen,9)\n",
    "\n",
    "prog.open_loop(reps)\n",
    "prog.pulse(ch=0, name=\"wave\", t=0)\n",
    "prog.pulse(ch=1, name=\"wave\", t=0)\n",
    "prog.trigger(ros=[0], pins=[0], t=100, width=10)\n",
    "\n",
    "prog.wait(100)\n",
    "\n",
    "# prog.sync_all(50)\n",
    "prog.sync_all(prog.us2cycles(1000000))\n",
    "\n",
    "prog.add_instruction({'CMD':\"REG_WR\", 'DST':'s12','SRC':'op','OP': 's12 + #1', 'UF':'0'})\n",
    "\n",
    "prog.close_loop()\n",
    "                     \n",
    "prog.end()\n",
    "\n",
    "print(prog.waves)\n",
    "print(prog.asm())\n",
    "print(prog.compile_prog())"
   ]
  },
  {
   "cell_type": "code",
   "execution_count": null,
   "id": "a91f8fe3",
   "metadata": {},
   "outputs": [],
   "source": [
    "prog.config_all(soc)\n",
    "print(\"run prog\")\n",
    "while True:\n",
    "    # sometimes the tProc doesn't start up correctly - retry until we see time_usr increasing\n",
    "    prog.config_bufs(soc, enable_avg=True, enable_buf=True)\n",
    "#     prog.config_bufs(soc, enable_avg=True, enable_buf=False)\n",
    "    soc.tproc.proc_stop()\n",
    "    soc.tproc.proc_start()\n",
    "    time.sleep(0.1)\n",
    "    val = soc.tproc.time_usr\n",
    "    print(\"time_usr:\", val)\n",
    "    if val > 3:\n",
    "        break\n",
    "    else: \n",
    "        print(\"time_usr not counting\")\n",
    "soc.tproc.read_sel=1\n",
    "for i in tqdm(range(10)):\n",
    "    time.sleep(0.5)\n",
    "    print(soc.tproc.tproc_r_dt1)\n",
    "    print(soc.get_accumulated(ch=0, length=5))"
   ]
  },
  {
   "cell_type": "code",
   "execution_count": null,
   "id": "7d310bfc",
   "metadata": {},
   "outputs": [],
   "source": [
    "soc.tproc.read_sel=1\n",
    "print(soc.tproc.tproc_r_dt1)\n",
    "print(soc.get_accumulated(ch=0, length=5))"
   ]
  },
  {
   "cell_type": "code",
   "execution_count": null,
   "id": "94b5b50d",
   "metadata": {},
   "outputs": [],
   "source": [
    "iq_list = [soc.avg_bufs[0].transfer_buf(length=windowlen*(reps)).T]\n",
    "\n",
    "# Plot results.\n",
    "plt.figure(1)\n",
    "for ii, iq in enumerate(iq_list):\n",
    "    plt.plot(iq[0], label=\"I value\")\n",
    "    plt.plot(iq[1], label=\"Q value\")\n",
    "    plt.plot(np.abs(iq[0]+1j*iq[1]), label=\"mag\")\n",
    "plt.ylabel(\"a.u.\")\n",
    "plt.xlabel(\"Clock ticks\")\n",
    "# plt.title(\"Averages = \" + str(config[\"soft_avgs\"]))\n",
    "plt.legend()\n",
    "# plt.ylim((2000,2750))\n",
    "\n",
    "print(soc.get_accumulated(ch=0, length=5))\n"
   ]
  },
  {
   "cell_type": "code",
   "execution_count": null,
   "id": "ea05bcaa",
   "metadata": {},
   "outputs": [],
   "source": [
    "def clear_reg():\n",
    "    clear_prog = QickProgramV2(soc)\n",
    "\n",
    "    clear_prog.add_instruction( {'CMD':\"REG_WR\" , 'DST':'s12'    ,'SRC':'imm'   ,'LIT'   : '0', 'UF':'0'  } )\n",
    "    clear_prog.add_label('END')\n",
    "    clear_prog.add_instruction( {'CMD':'JUMP'     , 'LABEL':'END', 'UF':'0' })\n",
    "\n",
    "    clear_prog.config_all(soc)\n",
    "#     soc.tproc.reset()\n",
    "#     soc.tproc.run()\n",
    "#     print(clear_prog.asm())\n",
    "    while True:\n",
    "        print(\"try to clear reg\")\n",
    "        while True:\n",
    "            soc.tproc.proc_stop()\n",
    "            soc.tproc.proc_start()\n",
    "            time.sleep(0.1)\n",
    "            val = soc.tproc.time_usr\n",
    "            print(\"time_usr:\", val)\n",
    "            if val > 3:\n",
    "                break\n",
    "            else:\n",
    "                print(\"time_usr not counting\")\n",
    "        break\n",
    "        val = soc.tproc.tproc_ext_dt1_o\n",
    "        print(\"tproc_ext_dt1_o:\", val)\n",
    "        if val == 0:\n",
    "            break\n",
    "        else:\n",
    "            print(\"reg not reset\")\n",
    "clear_reg()"
   ]
  },
  {
   "cell_type": "code",
   "execution_count": null,
   "id": "f42dc335",
   "metadata": {},
   "outputs": [],
   "source": [
    "soc.get_accumulated(ch=0, length=10)"
   ]
  },
  {
   "cell_type": "code",
   "execution_count": null,
   "id": "1eac4de8",
   "metadata": {},
   "outputs": [],
   "source": [
    "print(soc.tproc.read_mem(1,length=10))\n",
    "print(soc.tproc.read_mem(3,length=5))"
   ]
  },
  {
   "cell_type": "code",
   "execution_count": null,
   "id": "9b33fcc4",
   "metadata": {
    "scrolled": false
   },
   "outputs": [],
   "source": [
    "print(soc.tproc.read_mem(1,length=10))"
   ]
  },
  {
   "cell_type": "code",
   "execution_count": null,
   "id": "8c90af1a",
   "metadata": {
    "scrolled": false
   },
   "outputs": [],
   "source": [
    "print(soc.tproc.status())"
   ]
  },
  {
   "cell_type": "code",
   "execution_count": null,
   "id": "36816606",
   "metadata": {},
   "outputs": [],
   "source": [
    "print(time.time())"
   ]
  },
  {
   "cell_type": "code",
   "execution_count": null,
   "id": "de231500",
   "metadata": {},
   "outputs": [],
   "source": [
    "print(soc.tproc['pmem_size'])\n",
    "t = time.time()\n",
    "for i in tqdm(range(10000)):\n",
    "    soc.tproc.load_mem(1,np.zeros((soc.tproc['pmem_size'],8),dtype=np.int32))\n",
    "print(time.time()-t)"
   ]
  },
  {
   "cell_type": "code",
   "execution_count": null,
   "id": "8c069e6c",
   "metadata": {},
   "outputs": [],
   "source": [
    "print(soc.tproc['dmem_size'])\n",
    "t = time.time()\n",
    "for i in tqdm(range(10000)):\n",
    "    soc.tproc.load_mem(2,np.zeros((soc.tproc['dmem_size'],8),dtype=np.int32))\n",
    "print(time.time()-t)"
   ]
  },
  {
   "cell_type": "code",
   "execution_count": null,
   "id": "03d27e1b",
   "metadata": {},
   "outputs": [],
   "source": [
    "print(soc.tproc['wmem_size'])\n",
    "t = time.time()\n",
    "for i in tqdm(range(10000)):\n",
    "    soc.tproc.load_mem(3,np.zeros((soc.tproc['wmem_size'],8),dtype=np.int32))\n",
    "print(time.time()-t)"
   ]
  },
  {
   "cell_type": "code",
   "execution_count": null,
   "id": "4d6e38c1",
   "metadata": {},
   "outputs": [],
   "source": [
    "print(soc.tproc.time_usr)\n",
    "# print(soc.tproc.r_time)"
   ]
  },
  {
   "cell_type": "code",
   "execution_count": 8,
   "id": "17b02008",
   "metadata": {},
   "outputs": [
    {
     "name": "stdout",
     "output_type": "stream",
     "text": [
      "WAIT @100\n",
      "WAIT @100\n",
      "000_000__000___00__0_00_00_____00000000000_000000_________00000000000000000000000000000000__0000000\n",
      "000_010__000_00__1_00_01_____00000000000_000000_____0_1001011___000000000000000001011010__0000000\n",
      "001_110__010__00___1_00_01______00000000010_000000_____0_1001011___000000000000000001011010__0000000\n",
      "000_010__000_00__1_00_01_____00000000000_000000_____0_1001011___000000000000000001011010__0000000\n",
      "001_110__010__00___1_00_01______00000000100_000000_____0_1001011___000000000000000001011010__0000000\n",
      "001_111__000__00___0_00_00______00000000101_000000_________00000000000000000000000000000000__0000000\n",
      "[0, 0, 0, 0, 0, 0, 0, 0]\n",
      "[2147495168, 285212709, 8, 0, 0, 0, 0, 0]\n",
      "[2147495168, 285229093, 57, 0, 0, 0, 0, 0]\n",
      "[2147495168, 285212709, 8, 0, 0, 0, 0, 0]\n",
      "[2147495168, 285245477, 57, 0, 0, 0, 0, 0]\n",
      "[0, 40960, 60, 0, 0, 0, 0, 0]\n",
      "WAIT @100\n",
      "WAIT @100\n",
      "[{'P_ADDR': 1, 'LINE': 1, 'TIME': '100', 'CMD': 'WAIT', 'ADDR': '&2'}, {'P_ADDR': 3, 'LINE': 2, 'TIME': '100', 'CMD': 'WAIT', 'ADDR': '&4'}, {'LINE': 3, 'P_ADDR': 5, 'ADDR': '&5', 'UF': '0', 'CMD': 'JUMP'}]\n",
      "{'s15': 's15'}\n"
     ]
    }
   ],
   "source": [
    "from qick.tprocv2_assembler import Assembler\n",
    "# pstr = 'NOP\\nWAIT @100'\n",
    "# pstr = 'NOP'\n",
    "pstr = 'WAIT @100\\nWAIT @100\\n.END'\n",
    "# pstr = '.END'\n",
    "# pstr = 'NOP\\n.END'\n",
    "\n",
    "\n",
    "for a in Assembler.str_asm2bin(pstr):\n",
    "    for b in a:\n",
    "        print(b)\n",
    "\n",
    "for a in Assembler.str_asm2list(pstr):\n",
    "    print(a)\n"
   ]
  },
  {
   "cell_type": "code",
   "execution_count": 9,
   "id": "042c6493",
   "metadata": {},
   "outputs": [
    {
     "name": "stdout",
     "output_type": "stream",
     "text": [
      "[0, 0, 0, 0, 0, 0, 0, 0]\n",
      "[2147495168, 285212709, 8, 0, 0, 0, 0, 0]\n",
      "[2147495168, 285229093, 57, 0, 0, 0, 0, 0]\n",
      "[2147495168, 285212709, 8, 0, 0, 0, 0, 0]\n",
      "[2147495168, 285245477, 57, 0, 0, 0, 0, 0]\n",
      "[0, 40960, 60, 0, 0, 0, 0, 0]\n"
     ]
    }
   ],
   "source": [
    "prog = QickProgramV2(soc)\n",
    "prog.wait(100)\n",
    "prog.wait(100)\n",
    "prog.end()\n",
    "for a in prog.compile_prog():\n",
    "    print(a)"
   ]
  },
  {
   "cell_type": "code",
   "execution_count": null,
   "id": "f76417b1",
   "metadata": {},
   "outputs": [],
   "source": [
    "print(Assembler.list2asm(*Assembler.str_asm2list(pstr)))"
   ]
  },
  {
   "cell_type": "code",
   "execution_count": null,
   "id": "22de5158",
   "metadata": {},
   "outputs": [],
   "source": [
    "# plist = [{'CMD':'NOP'}, {'CMD':'WAIT', 'TIME':'100', 'LABEL':'WAIT'}]\n",
    "plist = [{'CMD':'WAIT', 'TIME':'100', 'LABEL':'WAIT'}, {'CMD':'WAIT', 'TIME':'100', 'LABEL':'WAIT'}]\n",
    "\n",
    "plabels = {'WAIT':'&0'}\n",
    "# print(Assembler.list2bin(plist, plabels))\n",
    "for a in Assembler.list2bin(plist, plabels):\n",
    "    for b in a:\n",
    "        print(b)\n",
    "print(Assembler.list2asm(plist, plabels))"
   ]
  },
  {
   "cell_type": "code",
   "execution_count": null,
   "id": "fdb626b1",
   "metadata": {},
   "outputs": [],
   "source": []
  },
  {
   "cell_type": "code",
   "execution_count": null,
   "id": "6dbaf1b9",
   "metadata": {},
   "outputs": [],
   "source": []
  },
  {
   "cell_type": "code",
   "execution_count": null,
   "id": "52fea428",
   "metadata": {},
   "outputs": [],
   "source": []
  },
  {
   "cell_type": "code",
   "execution_count": null,
   "id": "90d02694",
   "metadata": {},
   "outputs": [],
   "source": []
  },
  {
   "cell_type": "code",
   "execution_count": null,
   "id": "a328b0ed",
   "metadata": {},
   "outputs": [],
   "source": []
  },
  {
   "cell_type": "code",
   "execution_count": null,
   "id": "6c92ef2b",
   "metadata": {},
   "outputs": [],
   "source": [
    "soc.tproc.info()"
   ]
  },
  {
   "cell_type": "code",
   "execution_count": null,
   "id": "48c5c0cf",
   "metadata": {},
   "outputs": [],
   "source": [
    "print(soc.tproc)"
   ]
  },
  {
   "cell_type": "code",
   "execution_count": null,
   "id": "4148a993",
   "metadata": {},
   "outputs": [],
   "source": [
    "soc.tproc.getALL()"
   ]
  },
  {
   "cell_type": "code",
   "execution_count": null,
   "id": "7da6c403",
   "metadata": {},
   "outputs": [],
   "source": [
    "soc.tproc.getStatus()"
   ]
  },
  {
   "cell_type": "code",
   "execution_count": null,
   "id": "f2511e8e",
   "metadata": {},
   "outputs": [],
   "source": [
    "def wavetest():\n",
    "    prog_list = []\n",
    "    Dict_Label = { 'r_addr':'s15'   }\n",
    "\n",
    "    Dict_Label['WAIT_EC'] = '&' + str(len(prog_list)+1)\n",
    "    prog_list.append( {'CMD':'JUMP'     , 'LABEL':'START', 'IF':'EC', 'UF':'0' } )\n",
    "    prog_list.append( {'CMD':'JUMP'     , 'LABEL':'WAIT_EC', 'UF':'0' } )\n",
    "\n",
    "    Dict_Label['START'] = '&' + str(len(prog_list)+1)\n",
    "    prog_list.append( {'CMD':\"REG_WR\" , 'DST':'r1'    ,'SRC':'op'   ,'OP'   : 'MSH s7', 'UF':'0'  } )\n",
    "    prog_list.append( {'CMD':\"REG_WR\" , 'DST':'r2'    ,'SRC':'op'   ,'OP'   : 'LSH s7', 'UF':'0'  } )\n",
    "\n",
    "    prog_list.append( {'CMD':'CALL'     , 'LABEL':'F_CREATE_WAVES', 'UF':'0' } )\n",
    "    prog_list.append( {'CMD':'TIME'     , 'DST':'rst' } )\n",
    "    prog_list.append( {'CMD':\"REG_WR\" , 'DST':'s14'    ,'SRC':'imm'  ,'LIT'  : '0', 'UF':'0'  } )\n",
    "    prog_list.append( {'CMD':'CALL'     , 'LABEL':'F_SHOW_WAVES', 'UF':'0' } )\n",
    "\n",
    "    Dict_Label['WAIT_NEC'] = '&' + str(len(prog_list)+1)\n",
    "    prog_list.append( {'CMD':'JUMP'     , 'LABEL':'WAIT_NEC', 'UF':'0' } )\n",
    "\n",
    "    prog_list.append( {'CMD':'JUMP'     , 'LABEL':'WAIT_EC', 'UF':'0' } )\n",
    "\n",
    "    Dict_Label['F_SHOW_WAVES'] = '&' + str(len(prog_list)+1)\n",
    "    prog_list.append( {'CMD':'TIME'     , 'DST':'set_ref', 'LIT':'100' } )\n",
    "    prog_list.append( {'CMD':\"REG_WR\" , 'DST':'r0'    ,'SRC':'op'   ,'OP'   : 'r1-#1', 'UF':'1'  } )\n",
    "\n",
    "    Dict_Label['SHOW_LOOP'] = '&' + str(len(prog_list)+1)\n",
    "    prog_list.append( {'CMD':\"REG_WR\" , 'DST':'s14'    ,'SRC':'op'   ,'OP'   : 's14+r2', 'UF':'0'  } )\n",
    "    prog_list.append( {'CMD':'WPORT_WR' , 'DST':'4'    ,'SRC':'wmem'   ,'ADDR':'r0', 'UF':'0' } )\n",
    "    prog_list.append( {'CMD':'DPORT_WR' , 'DST':'0'    ,'SRC':'op'   ,'OP'  :'r0', 'UF':'0' } )\n",
    "    prog_list.append( {'CMD':'JUMP'     , 'LABEL':'SHOW_LOOP', 'IF':'NZ', 'WR':'r0 op', 'OP':'r0-#1', 'UF':'1' } )\n",
    "\n",
    "    prog_list.append( {'CMD':'RET'  } )\n",
    "\n",
    "\n",
    "    Dict_Label['F_CREATE_WAVES'] = '&' + str(len(prog_list)+1)\n",
    "    prog_list.append( {'CMD':\"REG_WR\" , 'DST':'r0'    ,'SRC':'op'   ,'OP'   : 'r1-#1', 'UF':'1'  } )\n",
    "    Dict_Label['CREATE_LOOP'] = '&' + str(len(prog_list)+1)\n",
    "    prog_list.append( {'CMD':'CALL'     , 'LABEL':'F_RAND_WAVE', 'UF':'0' } )\n",
    "    prog_list.append( {'CMD':'WMEM_WR'  , 'DST':'r0'   , 'UF':'0' } )\n",
    "    prog_list.append( {'CMD':'JUMP'     , 'LABEL':'CREATE_LOOP', 'IF':'NZ', 'WR':'r0 op', 'OP':'r0-#1', 'UF':'1' } )\n",
    "    prog_list.append( {'CMD':'RET'  } )\n",
    "\n",
    "    Dict_Label['F_RAND_WAVE'] = '&' + str(len(prog_list)+1)\n",
    "    #prog_list.append( {'CMD':\"REG_WR\" , 'DST':'w0'    ,'SRC':'imm'  ,'LIT'  : '1638400', 'UF':'0'  } )\n",
    "    prog_list.append( {'CMD':\"REG_WR\" , 'DST':'r5'    ,'SRC':'op'   ,'OP'   : 's1>>#6', 'UF':'0'  } )\n",
    "    prog_list.append( {'CMD':\"REG_WR\" , 'DST':'w0'    ,'SRC':'op'   ,'OP'   : 'r5+#1638400', 'UF':'0'  } )\n",
    "    prog_list.append( {'CMD':\"REG_WR\" , 'DST':'w1'    ,'SRC':'imm'  ,'LIT'  : '0', 'UF':'0'  } )\n",
    "    prog_list.append( {'CMD':\"REG_WR\" , 'DST':'w2'    ,'SRC':'imm'  ,'LIT'  : '1', 'UF':'0'  } )\n",
    "    prog_list.append( {'CMD':\"REG_WR\" , 'DST':'w3'    ,'SRC':'imm'  ,'LIT'  : '30000', 'UF':'0'  } )\n",
    "    prog_list.append( {'CMD':\"REG_WR\" , 'DST':'w4'    ,'SRC':'imm'  ,'LIT'  : '430', 'UF':'0'  } )\n",
    "    prog_list.append( {'CMD':\"REG_WR\" , 'DST':'w5'    ,'SRC':'imm'  ,'LIT'  : '17', 'UF':'0'  } )\n",
    "    #prog_list.append( {'CMD':\"REG_WR\" , 'DST':'w1'    ,'SRC':'op'   ,'OP'   : 's1>>#1', 'UF':'0'  } )\n",
    "    #prog_list.append( {'CMD':\"REG_WR\" , 'DST':'w3'    ,'SRC':'op'   ,'OP'   : 's1 AND #32767', 'UF':'0'  } )\n",
    "    prog_list.append( {'CMD':'RET'  } )\n",
    "\n",
    "\n",
    "    ## JUST IN CASE -Not Necesary\n",
    "    Dict_Label['END'] = '&' + str(len(prog_list)+1)\n",
    "    prog_list.append( {'CMD':'JUMP'     , 'LABEL':'END', 'UF':'0' } )\n",
    "\n",
    "    pmem, PROG, asm = tprocv2_compile(prog_list, Dict_Label)\n",
    "\n",
    "    return pmem, PROG, asm\n"
   ]
  },
  {
   "cell_type": "code",
   "execution_count": null,
   "id": "0e99cec7",
   "metadata": {},
   "outputs": [],
   "source": [
    "##### LOAD PROGRAM FROM FILE\n",
    "#data_filename = \"program_mem.pkl\"\n",
    "#print(\"Loading Program Memory From PICKLE File : \" + data_filename)\n",
    "#p_mem = pickle.load(open(data_filename, 'rb'))\n",
    "\n",
    "\n",
    "## Program from script\n",
    "p_mem, PROG, asm = wavetest()\n",
    "soc.tproc.Load_PMEM(p_mem)"
   ]
  },
  {
   "cell_type": "code",
   "execution_count": null,
   "id": "dd44b186",
   "metadata": {},
   "outputs": [],
   "source": [
    "print(asm)"
   ]
  },
  {
   "cell_type": "code",
   "execution_count": null,
   "id": "5d610483",
   "metadata": {},
   "outputs": [],
   "source": [
    "# from ctypes import *\n",
    "\n",
    "# class Wave(Structure):\n",
    "#     _pack_ = 1\n",
    "#     _fields_ = [(\"freq\", c_uint, 32),\n",
    "#                 (\"phase\", c_uint, 32),\n",
    "#                 (\"env\", c_uint, 24),\n",
    "#                 (\"gain\", c_uint, 32),\n",
    "#                 (\"length\", c_uint, 32),\n",
    "#                 (\"conf\", c_uint16, 16)\n",
    "#                ]\n",
    "    \n",
    "    \n",
    "# class Flags(Union):\n",
    "#     _fields_ = [(\"b\", Wave),\n",
    "#                 (\"asbyte\", 8*c_uint32)]\n",
    "# print(Wave.gain)\n",
    "\n",
    "# wave = Flags(Wave(1,2,3,4,5,6))\n",
    "# print([hex(i) for i in list(wave.asbyte)])\n",
    "# print(wave.b.gain)"
   ]
  },
  {
   "cell_type": "code",
   "execution_count": null,
   "id": "242e9440",
   "metadata": {},
   "outputs": [],
   "source": [
    "from collections import OrderedDict\n",
    "a = OrderedDict()\n",
    "a['foo'] = 17\n",
    "a['bar'] = 19"
   ]
  },
  {
   "cell_type": "code",
   "execution_count": null,
   "id": "03709e14",
   "metadata": {},
   "outputs": [],
   "source": [
    "list(a.items())"
   ]
  },
  {
   "cell_type": "code",
   "execution_count": null,
   "id": "271cf973",
   "metadata": {},
   "outputs": [],
   "source": [
    "list(a.values())"
   ]
  },
  {
   "cell_type": "code",
   "execution_count": null,
   "id": "6ffcd321",
   "metadata": {},
   "outputs": [],
   "source": [
    "from collections import namedtuple\n",
    "\n",
    "class Wave(namedtuple('Wave', [\"freq\", \"phase\", \"env\", \"gain\", \"length\", \"conf\"])):\n",
    "    widths = [4, 4, 3, 4, 4, 2]\n",
    "    def compile(self):\n",
    "        # convert to bytes to get a 168-bit word (this is what actually ends up in the wave memory)\n",
    "        rawbytes = b''.join([int(i).to_bytes(length=w, byteorder='little', signed=True) for i, w in zip(self, self.widths)])\n",
    "        # pad with zero bytes to get the 256-bit word (this is the format for DMA transfers)\n",
    "        paddedbytes = rawbytes[:11]+bytes(1)+rawbytes[11:]+bytes(10)\n",
    "        # pack into a numpy array\n",
    "        return np.frombuffer(paddedbytes, dtype=np.int32)"
   ]
  },
  {
   "cell_type": "code",
   "execution_count": null,
   "id": "d0ea14a7",
   "metadata": {},
   "outputs": [],
   "source": [
    "soc.freq2reg(100.0, gen_ch=0, ro_ch=0)"
   ]
  },
  {
   "cell_type": "code",
   "execution_count": null,
   "id": "292cb60b",
   "metadata": {},
   "outputs": [],
   "source": [
    "wave = Wave(soc.freq2reg(100.0, gen_ch=0, ro_ch=0),0,0,30000,20,9)\n",
    "print(wave)\n",
    "\n",
    "# waves = [wave, wave]\n",
    "waves = [wave]\n",
    "# waves_mem = np.frombuffer(b''.join([w.compile() for w in waves]), dtype=np.int32).reshape(-1,8)\n",
    "waves_mem = np.stack([w.compile() for w in waves])\n",
    "print(waves_mem)\n",
    "\n",
    "soc.tproc.load_mem(3,waves_mem)\n",
    "print(soc.tproc.read_mem(3,length=5))"
   ]
  },
  {
   "cell_type": "code",
   "execution_count": null,
   "id": "e6f6d8c3",
   "metadata": {},
   "outputs": [],
   "source": [
    "prog_list = []\n",
    "Dict_Label = {}\n",
    "\n",
    "prog_list.append( {'CMD':'TIME'     , 'DST':'inc_ref', 'LIT':'100' } )\n",
    "\n",
    "prog_list.append( {'CMD':\"REG_WR\" , 'DST':'s14'    ,'SRC':'imm'   ,'LIT'   : '0', 'UF':'0'  } )\n",
    "prog_list.append( {'CMD':'WPORT_WR' , 'DST':'0'    ,'SRC':'wmem'   ,'ADDR':'&0', 'UF':'0' } )\n",
    "prog_list.append( {'CMD':\"REG_WR\" , 'DST':'s14'    ,'SRC':'imm'   ,'LIT'   : '100', 'UF':'0'  } )\n",
    "prog_list.append( {'CMD':'DPORT_WR' , 'DST':'0'    ,'SRC':'imm'   ,'LIT'  :'255', 'UF':'0' } )\n",
    "prog_list.append( {'CMD':\"REG_WR\" , 'DST':'s14'    ,'SRC':'imm'   ,'LIT'   : '110', 'UF':'0'  } )\n",
    "prog_list.append( {'CMD':'DPORT_WR' , 'DST':'0'    ,'SRC':'imm'   ,'LIT'  :'0', 'UF':'0' } )\n",
    "\n",
    "prog_list.append( {'CMD':\"REG_WR\" , 'DST':'s12'    ,'SRC':'imm'   ,'LIT'   : '17', 'UF':'0'  } )\n",
    "\n",
    "# Dict_Label['END'] = '&' + str(len(prog_list)+1)\n",
    "# prog_list.append( {'CMD':'JUMP'     , 'LABEL':'END', 'UF':'0' } )\n",
    "\n",
    "p_mem, PROG, asm = tprocv2_compile(prog_list, Dict_Label)\n",
    "print(asm)"
   ]
  },
  {
   "cell_type": "code",
   "execution_count": null,
   "id": "d9951592",
   "metadata": {},
   "outputs": [],
   "source": [
    "soc.configure_readout(ch=0, output='product', frequency=100.0, gen_ch=0)\n",
    "soc.config_buf(ch=0, length=200)\n",
    "soc.tproc.Load_PMEM(p_mem)\n",
    "soc.tproc.reset()\n",
    "soc.tproc.run()\n",
    "while True:\n",
    "    val = soc.tproc.tproc_ext_dt1_o\n",
    "    print(val)\n",
    "    if val != 0:\n",
    "        break\n",
    "# soc.tproc.set_cond()\n",
    "# soc.tproc.stop()"
   ]
  },
  {
   "cell_type": "code",
   "execution_count": null,
   "id": "2d4625b6",
   "metadata": {},
   "outputs": [],
   "source": [
    "iq_list = [soc.avg_bufs[0].transfer_buf(length=200).T]\n",
    "\n",
    "# Plot results.\n",
    "plt.figure(1)\n",
    "for ii, iq in enumerate(iq_list):\n",
    "    plt.plot(iq[0], label=\"I value\")\n",
    "    plt.plot(iq[1], label=\"Q value\")\n",
    "    plt.plot(np.abs(iq[0]+1j*iq[1]), label=\"mag\")\n",
    "plt.ylabel(\"a.u.\")\n",
    "plt.xlabel(\"Clock ticks\")\n",
    "# plt.title(\"Averages = \" + str(config[\"soft_avgs\"]))\n",
    "plt.legend()\n"
   ]
  },
  {
   "cell_type": "code",
   "execution_count": null,
   "id": "5f67fcfc",
   "metadata": {},
   "outputs": [],
   "source": [
    "print('TIME_USR: ', soc.tproc.time_usr)\n",
    "\n",
    "## Program \n",
    "## ext_i1 (MSH) Indicates the AMOUNT of WAVES\n",
    "## ext_i1 (LSH) Indicates the TIME BETWEEN WAVES\n",
    "\n",
    "soc.tproc.tproc_cfg = 512\n",
    "number_of_waves = 8\n",
    "time_between_waves = 5\n",
    "\n",
    "data = (number_of_waves << 16) + time_between_waves + 430\n",
    "print(data)\n",
    "\n",
    "soc.tproc.tproc_ext_dt1_i = data\n",
    "\n",
    "soc.tproc.set_cond()\n",
    "\n",
    "soc.tproc.reset()\n",
    "soc.tproc.run()\n",
    "soc.tproc.set_cond()\n",
    "soc.tproc.stop()\n",
    "\n"
   ]
  },
  {
   "cell_type": "code",
   "execution_count": null,
   "id": "891d3500",
   "metadata": {},
   "outputs": [],
   "source": [
    "print(soc.tproc.read_mem(1, length=40))\n",
    "print(soc.tproc.read_mem(3, length=10))\n"
   ]
  },
  {
   "cell_type": "code",
   "execution_count": null,
   "id": "f26e361e",
   "metadata": {},
   "outputs": [],
   "source": []
  },
  {
   "cell_type": "code",
   "execution_count": null,
   "id": "c0bff549",
   "metadata": {},
   "outputs": [],
   "source": []
  },
  {
   "cell_type": "code",
   "execution_count": null,
   "id": "b4853161",
   "metadata": {},
   "outputs": [],
   "source": []
  },
  {
   "cell_type": "code",
   "execution_count": null,
   "id": "35c44beb",
   "metadata": {},
   "outputs": [],
   "source": [
    "soc.tproc.load_mem(1, np.ones((1,8),dtype=np.int32))\n",
    "print(soc.tproc.read_mem(1, length=10))\n",
    "soc.tproc.load_mem(1, np.ones((1,8),dtype=np.int32))\n",
    "\n",
    "print(soc.tproc.read_mem(1, length=10))\n",
    "\n",
    "soc.tproc.load_mem(1, 3*np.ones((1,8),dtype=np.int32))\n",
    "print(soc.tproc.read_mem(1, length=10))"
   ]
  },
  {
   "cell_type": "code",
   "execution_count": null,
   "id": "715ed00f",
   "metadata": {
    "scrolled": false
   },
   "outputs": [],
   "source": [
    "# # # can only read 32 lowest bits using single read\n",
    "# for i in range(soc.tproc.WMEM_SIZE):\n",
    "#     soc.tproc.mem_addr = i\n",
    "#     soc.tproc.tproc_cfg = 0x1D # read wmem\n",
    "#     val = soc.tproc.mem_dt_o\n",
    "#     soc.tproc.tproc_cfg = 0\n",
    "\n",
    "#     if val != 0:\n",
    "#         print(i, val)\n",
    "        \n",
    "# print(soc.tproc.read_mem(3, length=10))\n",
    "\n",
    "# # can only read 32 lowest bits using single read\n",
    "# for i in range(soc.tproc.PMEM_SIZE):\n",
    "#     soc.tproc.mem_addr = i\n",
    "#     soc.tproc.tproc_cfg = 0x15 # read pmem\n",
    "#     val = soc.tproc.mem_dt_o\n",
    "#     soc.tproc.tproc_cfg = 0\n",
    "\n",
    "#     if val != 0:\n",
    "#         print(i, val)\n",
    "        \n",
    "# print(soc.tproc.read_mem(1, length=20))\n",
    "\n",
    "# for i in range(soc.tproc.DMEM_SIZE):\n",
    "#     soc.tproc.mem_addr = i\n",
    "#     soc.tproc.tproc_cfg = 0x9 # read dmem\n",
    "#     val = soc.tproc.mem_dt_o\n",
    "#     soc.tproc.tproc_cfg = 0\n",
    "    \n",
    "#     if val != 0:\n",
    "#         print(i, val)\n",
    "# print(soc.tproc.read_mem(2, length=20))\n"
   ]
  },
  {
   "cell_type": "code",
   "execution_count": null,
   "id": "c4582ba2",
   "metadata": {},
   "outputs": [],
   "source": []
  },
  {
   "cell_type": "code",
   "execution_count": null,
   "id": "4a0b896a",
   "metadata": {},
   "outputs": [],
   "source": []
  },
  {
   "cell_type": "code",
   "execution_count": null,
   "id": "6d7ad7fa",
   "metadata": {},
   "outputs": [],
   "source": []
  },
  {
   "cell_type": "code",
   "execution_count": null,
   "id": "854bdc12",
   "metadata": {},
   "outputs": [],
   "source": []
  },
  {
   "cell_type": "code",
   "execution_count": null,
   "id": "0b67afc7",
   "metadata": {},
   "outputs": [],
   "source": [
    "# nsamp = 10\n",
    "\n",
    "# prog = QickProgram(soccfg)\n",
    "# prog.memri(1,1,123,\"freq\")\n",
    "# prog.memri(1,2,124,\"phase\")\n",
    "# prog.regwi(1,3,32000,\"gain\")\n",
    "# prog.regwi(1,4,nsamp,\"nsamp: generator will consume 16*nsamp DAC values.\")\n",
    "# prog.regwi(1,5,0x4,\"b00100 -> phrst = 0, stdysel = 0, mode = 1, outsel = 00\")\n",
    "# prog.bitwi(1,5,5,\"<<\",16)\n",
    "# prog.bitw(1,4,4,\"|\",5)\n",
    "# prog.regwi(1,6,0,\"start time\")\n",
    "# prog.synci(1000)\n",
    "# prog.comment(\"Set trigger.\")\n",
    "# prog.regwi(0,1,0x1,\"Send a pulse on pmod 0_0 (pin 1 on J48 on the ZCU111).\")\n",
    "# prog.seti(0,0,1,0,\"Start the pulse.\")\n",
    "# prog.seti(0,0,0,100,\"End the pulse after 100 ticks (260 ns).\")\n",
    "\n",
    "# prog.comment(\"Program signal generators in periodic mode.\") #TODO: make comments sppear in the printout?\n",
    "# prog.comment(\"Channels 4, 5, 6, 7 -> DAC 229 CH0/1/2/3.\")\n",
    "# for ch in out_chs:\n",
    "#     # the channel number here is 1-indexed, since it's the tProc channel number for the gen\n",
    "#     prog.set(ch+1,1,1,2,0,3,4,6)\n",
    "# prog.synci(1000)\n",
    "# prog.comment(\"Set trigger.\")\n",
    "# prog.regwi(0,1,0xc000,\"Trigger both buffers.\")\n",
    "# prog.seti(0,0,1,0,\"Start the pulse.\")\n",
    "# prog.seti(0,0,0,100,\"End the pulse after 100 ticks (260 ns).\")\n",
    "# prog.end()\n",
    "\n",
    "# print(prog)\n",
    "\n",
    "# prog.load_program(soc)\n",
    "\n",
    "# # Constant, real envelope.\n",
    "# # The length must be at least 16 times the nsamp parameter passed to the signal generators.\n",
    "# xg = np.zeros((16*nsamp,2), dtype=np.int16)\n",
    "# xg[:,0] = 30000\n",
    "\n",
    "# for ch in out_chs:\n",
    "#     # Set the DAC channels to be in 1st Nyquist zone mode\n",
    "#     soc.set_nyquist(ch=ch,nqz=1)\n",
    "#     # Upload waveform.\n",
    "#     soc.load_pulse_data(ch=ch, data=xg, addr=0)\n",
    "\n",
    "# # Output phase.\n",
    "# fi0 = 0\n",
    "\n",
    "# fi_v = np.zeros((2,len(f0_v)))\n",
    "\n",
    "# # Load program.\n",
    "# for ii, f0 in enumerate(f0_v):\n",
    "#     measure_phase_decimated(soc, f0, fi0, fi_v[:,ii])\n",
    "\n",
    "# soc.reset_gens()"
   ]
  },
  {
   "cell_type": "code",
   "execution_count": null,
   "id": "e858f5c8",
   "metadata": {},
   "outputs": [],
   "source": []
  },
  {
   "cell_type": "markdown",
   "id": "7315de4e",
   "metadata": {},
   "source": [
    "### bugs?"
   ]
  },
  {
   "cell_type": "code",
   "execution_count": null,
   "id": "1075c00a",
   "metadata": {},
   "outputs": [],
   "source": [
    "soc.tproc.mem_addr = 0\n",
    "soc.tproc.tproc_cfg = 0x1F # write wmem\n",
    "soc.tproc.mem_dt_i = 17\n",
    "soc.tproc.tproc_cfg = 0\n",
    "\n",
    "soc.tproc.read_mem(3, length=10) # this hangs; killing this and trying again gives \"DMA channel not idle\""
   ]
  },
  {
   "cell_type": "code",
   "execution_count": null,
   "id": "1a5604eb",
   "metadata": {},
   "outputs": [],
   "source": [
    "dummy_mem = np.ones((1,8),dtype=np.int32)\n",
    "\n",
    "soc.tproc.Load_PMEM(dummy_mem)\n",
    "\n",
    "soc.tproc.mem_addr = 0\n",
    "soc.tproc.tproc_cfg = 0x15 # read pmem\n",
    "val = soc.tproc.mem_dt_o\n",
    "soc.tproc.tproc_cfg = 0\n",
    "\n",
    "print(soc.tproc.read_mem(1, length=10))\n",
    "\n",
    "soc.tproc.Load_PMEM(dummy_mem) # hangs, DMA \"not started\""
   ]
  },
  {
   "cell_type": "code",
   "execution_count": null,
   "id": "d81b0525",
   "metadata": {},
   "outputs": [],
   "source": [
    "soc.tproc.load_mem(1, np.ones((1,8),dtype=np.int32)) # write 1s to pmem address 0\n",
    "print(soc.tproc.read_mem(1, length=10)) # looks correct\n",
    "\n",
    "soc.tproc.mem_addr = 0\n",
    "soc.tproc.tproc_cfg = 0x15 # read pmem\n",
    "val = soc.tproc.mem_dt_o\n",
    "soc.tproc.tproc_cfg = 0\n",
    "print(soc.tproc.read_mem(1, length=10)) # why is the data repeated 5 times?"
   ]
  },
  {
   "cell_type": "code",
   "execution_count": null,
   "id": "540b72cc",
   "metadata": {},
   "outputs": [],
   "source": []
  },
  {
   "cell_type": "code",
   "execution_count": null,
   "id": "2a1d0d16",
   "metadata": {},
   "outputs": [],
   "source": []
  },
  {
   "cell_type": "code",
   "execution_count": null,
   "id": "74f44426",
   "metadata": {},
   "outputs": [],
   "source": [
    "prog_list = []\n",
    "Dict_Label = { 'r_addr':'s15'   }\n",
    "\n",
    "Dict_Label['WAIT_EC'] = '&' + str(len(prog_list)+1)\n",
    "prog_list.append( {'CMD':'JUMP'     , 'LABEL':'START', 'IF':'EC', 'UF':'0' } )\n",
    "prog_list.append( {'CMD':'JUMP'     , 'LABEL':'WAIT_EC', 'UF':'0' } )\n",
    "\n",
    "Dict_Label['START'] = '&' + str(len(prog_list)+1)\n",
    "prog_list.append( {'CMD':\"REG_WR\" , 'DST':'r1'    ,'SRC':'op'   ,'OP'   : 'MSH s7', 'UF':'0'  } )\n",
    "prog_list.append( {'CMD':\"REG_WR\" , 'DST':'r2'    ,'SRC':'op'   ,'OP'   : 'LSH s7', 'UF':'0'  } )\n",
    "\n",
    "prog_list.append( {'CMD':'CALL'     , 'LABEL':'F_CREATE_WAVES', 'UF':'0' } )\n",
    "prog_list.append( {'CMD':'TIME'     , 'DST':'rst' } )\n",
    "prog_list.append( {'CMD':\"REG_WR\" , 'DST':'s14'    ,'SRC':'imm'  ,'LIT'  : '0', 'UF':'0'  } )\n",
    "prog_list.append( {'CMD':'CALL'     , 'LABEL':'F_SHOW_WAVES', 'UF':'0' } )\n",
    "\n",
    "Dict_Label['WAIT_NEC'] = '&' + str(len(prog_list)+1)\n",
    "prog_list.append( {'CMD':'JUMP'     , 'LABEL':'WAIT_NEC', 'UF':'0' } )\n",
    "\n",
    "prog_list.append( {'CMD':'JUMP'     , 'LABEL':'WAIT_EC', 'UF':'0' } )\n",
    "\n",
    "Dict_Label['F_SHOW_WAVES'] = '&' + str(len(prog_list)+1)\n",
    "prog_list.append( {'CMD':'TIME'     , 'DST':'set_ref', 'LIT':'100' } )\n",
    "prog_list.append( {'CMD':\"REG_WR\" , 'DST':'r0'    ,'SRC':'op'   ,'OP'   : 'r1-#1', 'UF':'1'  } )\n",
    "\n",
    "Dict_Label['SHOW_LOOP'] = '&' + str(len(prog_list)+1)\n",
    "prog_list.append( {'CMD':\"REG_WR\" , 'DST':'s14'    ,'SRC':'op'   ,'OP'   : 's14+r2', 'UF':'0'  } )\n",
    "prog_list.append( {'CMD':'WPORT_WR' , 'DST':'4'    ,'SRC':'wmem'   ,'ADDR':'r0', 'UF':'0' } )\n",
    "prog_list.append( {'CMD':'DPORT_WR' , 'DST':'0'    ,'SRC':'op'   ,'OP'  :'r0', 'UF':'0' } )\n",
    "prog_list.append( {'CMD':'JUMP'     , 'LABEL':'SHOW_LOOP', 'IF':'NZ', 'WR':'r0 op', 'OP':'r0-#1', 'UF':'1' } )\n",
    "\n",
    "prog_list.append( {'CMD':'RET'  } )\n",
    "\n",
    "\n",
    "Dict_Label['F_CREATE_WAVES'] = '&' + str(len(prog_list)+1)\n",
    "prog_list.append( {'CMD':\"REG_WR\" , 'DST':'r0'    ,'SRC':'op'   ,'OP'   : 'r1-#1', 'UF':'1'  } )\n",
    "Dict_Label['CREATE_LOOP'] = '&' + str(len(prog_list)+1)\n",
    "prog_list.append( {'CMD':'CALL'     , 'LABEL':'F_RAND_WAVE', 'UF':'0' } )\n",
    "prog_list.append( {'CMD':'WMEM_WR'  , 'DST':'r0'   , 'UF':'0' } )\n",
    "prog_list.append( {'CMD':'JUMP'     , 'LABEL':'CREATE_LOOP', 'IF':'NZ', 'WR':'r0 op', 'OP':'r0-#1', 'UF':'1' } )\n",
    "prog_list.append( {'CMD':'RET'  } )\n",
    "\n",
    "Dict_Label['F_RAND_WAVE'] = '&' + str(len(prog_list)+1)\n",
    "#prog_list.append( {'CMD':\"REG_WR\" , 'DST':'w0'    ,'SRC':'imm'  ,'LIT'  : '1638400', 'UF':'0'  } )\n",
    "prog_list.append( {'CMD':\"REG_WR\" , 'DST':'r5'    ,'SRC':'op'   ,'OP'   : 's1>>#6', 'UF':'0'  } )\n",
    "prog_list.append( {'CMD':\"REG_WR\" , 'DST':'w0'    ,'SRC':'op'   ,'OP'   : 'r5+#1638400', 'UF':'0'  } )\n",
    "prog_list.append( {'CMD':\"REG_WR\" , 'DST':'w1'    ,'SRC':'imm'  ,'LIT'  : '0', 'UF':'0'  } )\n",
    "prog_list.append( {'CMD':\"REG_WR\" , 'DST':'w2'    ,'SRC':'imm'  ,'LIT'  : '1', 'UF':'0'  } )\n",
    "prog_list.append( {'CMD':\"REG_WR\" , 'DST':'w3'    ,'SRC':'imm'  ,'LIT'  : '30000', 'UF':'0'  } )\n",
    "prog_list.append( {'CMD':\"REG_WR\" , 'DST':'w4'    ,'SRC':'imm'  ,'LIT'  : '430', 'UF':'0'  } )\n",
    "prog_list.append( {'CMD':\"REG_WR\" , 'DST':'w5'    ,'SRC':'imm'  ,'LIT'  : '17', 'UF':'0'  } )\n",
    "#prog_list.append( {'CMD':\"REG_WR\" , 'DST':'w1'    ,'SRC':'op'   ,'OP'   : 's1>>#1', 'UF':'0'  } )\n",
    "#prog_list.append( {'CMD':\"REG_WR\" , 'DST':'w3'    ,'SRC':'op'   ,'OP'   : 's1 AND #32767', 'UF':'0'  } )\n",
    "prog_list.append( {'CMD':'RET'  } )\n",
    "\n",
    "\n",
    "## JUST IN CASE -Not Necesary\n",
    "Dict_Label['END'] = '&' + str(len(prog_list)+1)\n",
    "prog_list.append( {'CMD':'JUMP'     , 'LABEL':'END', 'UF':'0' } )\n",
    "\n",
    "# tprocv2_getasm(prog_list, Dict_Label);\n",
    "\n",
    "pmem, PROG, asm = tprocv2_compile(prog_list, Dict_Label)"
   ]
  },
  {
   "cell_type": "code",
   "execution_count": null,
   "id": "37ec5eac",
   "metadata": {},
   "outputs": [],
   "source": []
  },
  {
   "cell_type": "code",
   "execution_count": null,
   "id": "32b74e33",
   "metadata": {},
   "outputs": [],
   "source": []
  },
  {
   "cell_type": "code",
   "execution_count": null,
   "id": "a2b338b7",
   "metadata": {},
   "outputs": [],
   "source": []
  },
  {
   "cell_type": "markdown",
   "id": "361c6861",
   "metadata": {},
   "source": [
    "### don't look below"
   ]
  },
  {
   "cell_type": "code",
   "execution_count": null,
   "id": "3a471310",
   "metadata": {},
   "outputs": [],
   "source": [
    "# #soc.tproc.reset()\n",
    "# soc.tproc.tproc_ctrl      = 32 # tProc Step (Time and Core Increase 1 step)\n",
    "# soc.tproc.getStatus()"
   ]
  },
  {
   "cell_type": "code",
   "execution_count": null,
   "id": "516e131d",
   "metadata": {},
   "outputs": [],
   "source": [
    "# soc.tproc.reset()\n"
   ]
  },
  {
   "cell_type": "code",
   "execution_count": null,
   "id": "7a4b80fd",
   "metadata": {},
   "outputs": [],
   "source": [
    "# soc.tproc.tproc_ctrl      = 1 # RST\n",
    "# soc.tproc.tproc_ctrl      = 16"
   ]
  },
  {
   "cell_type": "code",
   "execution_count": null,
   "id": "d28d4010",
   "metadata": {},
   "outputs": [],
   "source": [
    "# Load_Program(soc)\n",
    "\n",
    "# soc.tproc.tproc_ctrl      = 1 # RST\n",
    "# soc.tproc.tproc_ctrl      = 16 # PLAY\n",
    "# soc.tproc.tproc_ext_dt2_i = 0 #READ 2\n",
    "\n",
    "# soc.tproc.tproc_ext_dt1_i = 0 #READ 2\n",
    "# soc.tproc.tproc_ctrl      = 2048 # Clear CONDITION\n",
    "# getALL(soc)\n",
    "# soc.tproc.tproc_ext_dt1_i = 1 #READ 2\n",
    "# soc.tproc.tproc_ctrl      = 2048 # Clear CONDITION\n",
    "# getALL(soc)\n",
    "# soc.tproc.tproc_ext_dt1_i = 2 #READ 2\n",
    "# soc.tproc.tproc_ctrl      = 2048 # Clear CONDITION\n",
    "# getALL(soc)\n",
    "# soc.tproc.tproc_ext_dt1_i = 3 #READ 2\n",
    "# soc.tproc.tproc_ctrl      = 2048 # Clear CONDITION\n",
    "# getALL(soc)\n",
    "# soc.tproc.tproc_ext_dt1_i = 4 #READ 2\n",
    "# soc.tproc.tproc_ctrl      = 2048 # Clear CONDITION\n",
    "# getALL(soc)\n",
    "# soc.tproc.tproc_ext_dt1_i = 4 #READ 2\n",
    "# soc.tproc.tproc_ctrl      = 2048 # Clear CONDITION\n",
    "# getALL(soc)\n",
    "# soc.tproc.tproc_ext_dt1_i = 25 #READ 2\n",
    "# soc.tproc.tproc_ctrl      = 2048 # Clear CONDITION\n",
    "# getALL(soc)\n",
    "\n",
    "\n",
    "# # Micro CONTROL Values\n",
    "# #soc.tproc.tproc_ctrl      = 1 # RST\n",
    "# #soc.tproc.tproc_ctrl      = 2 # STOP\n",
    "# #soc.tproc.tproc_ctrl      = 4 # Core PAUSE (Time RUN)\n",
    "# #soc.tproc.tproc_ctrl      = 8 # Time Freeze (Core RUN)\n",
    "# #soc.tproc.tproc_ctrl      = 16 # PLAY\n",
    "# #soc.tproc.tproc_ctrl      = 32 # tProc Step (Time and Core Increase 1 step)\n",
    "# #soc.tproc.tproc_ctrl      = 64 # Core STEP (Time STOP)\n",
    "# #soc.tproc.tproc_ctrl      = 128 # Time STEP (Core STOP)\n",
    "# #soc.tproc.tproc_ctrl      = 1024 # Set CONDITION\n",
    "# #soc.tproc.tproc_ctrl      = 2048 # Clear CONDITION\n",
    "\n",
    "# #getState(soc)\n",
    "# #getStatus(soc)\n",
    "\n",
    "# t1 = soc.tproc.time_usr\n",
    "# soc.tproc.tproc_ext_dt1_i = 25 #READ 2\n",
    "# a = soc.tproc.tproc_ext_dt2_o\n",
    "# t2 = soc.tproc.time_usr\n",
    "# print('First Read : ', t1, 'Second Read : ', t2)\n",
    "# t_clk = t2 - t1\n",
    "\n",
    "# t_us = int(soccfg.cycles2us(t_clk, gen_ch=0)*1000)/1000\n",
    "# print('Time Elapsed : ' + str(  t_us ) +  'us')\n",
    "# print('Time Single  : ' + str( (t_us/3)) +  'us')\n",
    "\n",
    "      "
   ]
  },
  {
   "cell_type": "code",
   "execution_count": null,
   "id": "fe070503",
   "metadata": {},
   "outputs": [],
   "source": []
  },
  {
   "cell_type": "code",
   "execution_count": null,
   "id": "d0bef4a9",
   "metadata": {},
   "outputs": [],
   "source": [
    "# getStatus(soc)\n",
    "# soc.tproc.tproc_ctrl      = 1\n",
    "# getStatus(soc)\n",
    "# soc.tproc.tproc_ctrl      = 128 # Time STEP (Core STOP)\n",
    "# getStatus(soc)\n",
    "\n",
    "# print('----- RUNNING')\n",
    "# soc.tproc.tproc_ctrl      = 16\n",
    "# getStatus(soc)\n",
    "# time.sleep(1)\n",
    "# getStatus(soc)\n",
    "\n",
    "# print('-----Reset')\n",
    "# #soc.tproc.tproc_ctrl      = 2\n",
    "# #getStatus(soc)\n",
    "\n",
    "\n",
    "# a = soc.tproc.time_usr\n",
    "# print('TIME_USR: ', a)\n",
    "# soc.tproc.tproc_ctrl      = 32 # tProc Step (Time and Core Increase 1 step)\n",
    "# a = soc.tproc.time_usr\n",
    "# print('TIME_USR: ', a)"
   ]
  },
  {
   "cell_type": "code",
   "execution_count": null,
   "id": "94091a44",
   "metadata": {},
   "outputs": [],
   "source": [
    "# #####################################################################\n",
    "# ## INFO\n",
    "# soccfg = QickConfig(soc)\n",
    "# print(soccfg)\n",
    "# print(soc)\n",
    "\n",
    "# #soc.ip_dict.keys()\n",
    "# soc.tproc.PMEM_SIZE\n",
    "# soc.tproc.DMEM_SIZE\n",
    "# soc.tproc.WMEM_SIZE\n",
    "# soc.tproc.DREG_QTY\n",
    "# soc.tproc.IN_PORT_QTY\n",
    "# soc.tproc.OUT_DPORT_QTY\n",
    "# soc.tproc.OUT_WPORT_QTY\n",
    "\n",
    "# soc.tproc.info()\n",
    "\n",
    "# from pynq import Clocks\n",
    "# print(\"CPU CLK : \" + str(Clocks.cpu_mhz) + \"Mhz\")\n",
    "# print(\"PL0  CLK : \" + str(Clocks.fclk0_mhz) + \"Mhz\")\n",
    "# print(\"PL1  CLK : \" + str(Clocks.fclk1_mhz) + \"Mhz\")\n",
    "# print(\"PL2  CLK : \" + str(Clocks.fclk2_mhz) + \"Mhz\")\n",
    "# print(\"PL3  CLK : \" + str(Clocks.fclk3_mhz) + \"Mhz\")\n",
    "# #print(\"ADC CLK : \" + str(soc.fs_adc)  + \"Mhz\")\n",
    "# #print(\"DAC CLK : \" + str(soc.fs_dac)  + \"Mhz\\n\")\n",
    "\n",
    "# #period_ms = 1 / Clocks.fclk0_mhz /1000\n",
    "\n",
    "# BUFF_SIZE     = 256\n",
    "# mem_buff_bytes = (BUFF_SIZE) * 256 /1024\n",
    "# print(\"Allocate Buffer Size:\" , mem_buff_bytes, \"KBytes\")\n",
    "# dma_buff_bytes = soc.axi_dma_tproc.buffer_max_size /1024\n",
    "# print(\"DMA Buffer Size     :\" , dma_buff_bytes, \"KBytes\")"
   ]
  },
  {
   "cell_type": "code",
   "execution_count": null,
   "id": "80e6d2f1",
   "metadata": {},
   "outputs": [],
   "source": [
    "soc.dacs"
   ]
  },
  {
   "cell_type": "code",
   "execution_count": null,
   "id": "62a750e3",
   "metadata": {},
   "outputs": [],
   "source": []
  }
 ],
 "metadata": {
  "kernelspec": {
   "display_name": "Python 3 (ipykernel)",
   "language": "python",
   "name": "python3"
  },
  "language_info": {
   "codemirror_mode": {
    "name": "ipython",
    "version": 3
   },
   "file_extension": ".py",
   "mimetype": "text/x-python",
   "name": "python",
   "nbconvert_exporter": "python",
   "pygments_lexer": "ipython3",
   "version": "3.10.4"
  }
 },
 "nbformat": 4,
 "nbformat_minor": 5
}
